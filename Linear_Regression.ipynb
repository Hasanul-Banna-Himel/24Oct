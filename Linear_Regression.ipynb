{
  "nbformat": 4,
  "nbformat_minor": 0,
  "metadata": {
    "colab": {
      "provenance": []
    },
    "kernelspec": {
      "name": "python3",
      "display_name": "Python 3"
    },
    "language_info": {
      "name": "python"
    }
  },
  "cells": [
    {
      "cell_type": "markdown",
      "source": [
        "\n",
        "# 1.   Import libraries"
      ],
      "metadata": {
        "id": "iz3xqZEwgEVo"
      }
    },
    {
      "cell_type": "code",
      "source": [
        "import numpy as np\n",
        "from sklearn.linear_model import LinearRegression\n",
        "from sklearn.model_selection import train_test_split"
      ],
      "metadata": {
        "id": "UqLnnn2pfviw"
      },
      "execution_count": null,
      "outputs": []
    },
    {
      "cell_type": "markdown",
      "source": [
        "# 2. Generate sample data"
      ],
      "metadata": {
        "id": "jS2GdKr5gN5t"
      }
    },
    {
      "cell_type": "code",
      "execution_count": null,
      "metadata": {
        "id": "on67O82ifhIN"
      },
      "outputs": [],
      "source": [
        "X = np.array([[1], [2], [3], [4], [5]])\n",
        "y = np.array([1, 2, 3, 3.5, 5])"
      ]
    },
    {
      "cell_type": "markdown",
      "source": [
        "# 3. Split data into training and testing sets"
      ],
      "metadata": {
        "id": "MKPQxFMNgU_o"
      }
    },
    {
      "cell_type": "code",
      "source": [
        "X_train, X_test, y_train, y_test = train_test_split(X, y, test_size=0.2, random_state=42)"
      ],
      "metadata": {
        "id": "JAsUscJ8gYXD"
      },
      "execution_count": null,
      "outputs": []
    },
    {
      "cell_type": "markdown",
      "source": [
        "# 4. Initialize and train the model"
      ],
      "metadata": {
        "id": "kgcZpyevgch5"
      }
    },
    {
      "cell_type": "code",
      "source": [
        "model = LinearRegression()\n",
        "model.fit(X_train, y_train)"
      ],
      "metadata": {
        "id": "kv3HqcFMggkx"
      },
      "execution_count": null,
      "outputs": []
    },
    {
      "cell_type": "markdown",
      "source": [
        "# 5. Predict using the test set"
      ],
      "metadata": {
        "id": "5_0utNhcgmO8"
      }
    },
    {
      "cell_type": "code",
      "source": [
        "y_pred = model.predict(X_test)"
      ],
      "metadata": {
        "id": "uWCvnQEbglqh"
      },
      "execution_count": null,
      "outputs": []
    },
    {
      "cell_type": "markdown",
      "source": [
        "# 6. Output the results"
      ],
      "metadata": {
        "id": "T987ytNtgswk"
      }
    },
    {
      "cell_type": "code",
      "source": [
        "print(f\"Predictions: {y_pred}\")\n",
        "print(f\"Model Coefficients: {model.coef_}\")"
      ],
      "metadata": {
        "id": "QrNbz27wgw1a"
      },
      "execution_count": null,
      "outputs": []
    }
  ]
}